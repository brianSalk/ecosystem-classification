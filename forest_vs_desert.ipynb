{
 "cells": [
  {
   "cell_type": "markdown",
   "id": "62c6225d",
   "metadata": {},
   "source": [
    "## forest vs. desert\n",
    "This model is a prototype of a prototype.  \n",
    "eventually I want to do much more with ecosystem classification but I need to start somewhere  \n",
    "I really need ecologists to help me with this project!!!!!!  "
   ]
  },
  {
   "cell_type": "markdown",
   "id": "3836583d",
   "metadata": {},
   "source": [
    "### Import all the stuff for models"
   ]
  },
  {
   "cell_type": "code",
   "execution_count": 11,
   "id": "747bcc7f",
   "metadata": {},
   "outputs": [],
   "source": [
    "import os                                \n",
    "os.environ['TF_CPP_MIN_LOG_LEVEL'] = '2' # silence all the tensorflow warnings\n",
    "import tensorflow as tf\n",
    "from tensorflow import keras\n",
    "from tensorflow.keras.models import Sequential\n",
    "from tensorflow.keras import layers"
   ]
  },
  {
   "cell_type": "markdown",
   "id": "eecf3728",
   "metadata": {},
   "source": [
    "### import images from the directories"
   ]
  },
  {
   "cell_type": "code",
   "execution_count": 12,
   "id": "af7784b3",
   "metadata": {},
   "outputs": [],
   "source": [
    "from tensorflow.keras.preprocessing.image import load_img\n",
    "from tensorflow.keras.preprocessing import image_dataset_from_directory\n",
    "\n",
    "import matplotlib.pyplot as plt\n",
    "base_dir = \"./ecosystems/\"\n",
    "forest_dir = os.path.join(base_dir, 'forest/')\n",
    "desert_dir = os.path.join(base_dir, 'desert/')"
   ]
  },
  {
   "cell_type": "markdown",
   "id": "87d039f1",
   "metadata": {},
   "source": [
    "### train on just forest and desert, use validation set.\n",
    "I am getting impatiant, I just want to see if it can even get forest vs. desert with about 700 pics of each"
   ]
  },
  {
   "cell_type": "code",
   "execution_count": 15,
   "id": "6d1695a5",
   "metadata": {},
   "outputs": [
    {
     "name": "stdout",
     "output_type": "stream",
     "text": [
      "Found 3401 files belonging to 3 classes.\n"
     ]
    }
   ],
   "source": [
    "dataset = image_dataset_from_directory(base_dir, labels='inferred',image_size = (300,300),batch_size=32)\n",
    "iterator = iter(dataset)\n",
    "batch_size = 64\n",
    "num_batches = 21\n",
    "x_train = []\n",
    "y_train = []\n",
    "x_test = []\n",
    "y_test = []\n",
    "for batch in range(num_batches):\n",
    "    (x_batch, y_batch) = next(iterator)\n",
    "    x_train.extend(x_batch)\n",
    "    y_train.extend(y_batch)\n",
    "# 20% of data should be used for testing\n",
    "test_size = int(len(x_train) * .2)\n",
    "x_test = x_train[:test_size]\n",
    "y_test = y_train[:test_size]\n",
    "x_train = x_train[test_size:]\n",
    "y_train = y_train[test_size:]\n"
   ]
  },
  {
   "cell_type": "code",
   "execution_count": 16,
   "id": "f03ef095",
   "metadata": {},
   "outputs": [
    {
     "name": "stdout",
     "output_type": "stream",
     "text": [
      "Epoch 1/3\n",
      "14/14 [==============================] - 10s 658ms/step - loss: 492.9799 - accuracy: 0.6520 - val_loss: -396.8561 - val_accuracy: 0.6916\n",
      "Epoch 2/3\n",
      "14/14 [==============================] - 9s 645ms/step - loss: -184.5945 - accuracy: 0.7471 - val_loss: -1205.1273 - val_accuracy: 0.6916\n",
      "Epoch 3/3\n",
      "14/14 [==============================] - 9s 641ms/step - loss: -206.8107 - accuracy: 0.7935 - val_loss: -1390.3326 - val_accuracy: 0.7570\n"
     ]
    }
   ],
   "source": [
    "from tensorflow.keras import layers\n",
    "from tensorflow.keras.losses import binary_crossentropy\n",
    "import tensorflow as tf\n",
    "from tensorflow.keras.models import Sequential\n",
    "from tensorflow.keras import layers\n",
    "import numpy as np\n",
    "\n",
    "# define model\n",
    "model = keras.models.Sequential()\n",
    "model.add(layers.Conv2D(filters=32, kernel_size=(3, 3), activation='relu', input_shape=(300, 300, 3)))\n",
    "model.add(layers.MaxPooling2D(pool_size=(2,2)))\n",
    "model.add(layers.Conv2D(filters=32, kernel_size=(3, 3), activation='relu', input_shape=(300, 300, 3)))\n",
    "model.add(layers.MaxPooling2D(pool_size=(2,2)))\n",
    "model.add(layers.Flatten())\n",
    "model.add(layers.Dense(128, activation='relu'))\n",
    "model.add(layers.Dense(1, activation='sigmoid'))\n",
    "# compile model\n",
    "model.compile(loss='binary_crossentropy', optimizer='adam',metrics=['accuracy'])\n",
    "# create validation sets\n",
    "val_size = int(len(x_train)*.2)\n",
    "x_val = np.array(x_train[:val_size])\n",
    "x_train = np.array(x_train[val_size:])\n",
    "y_val = np.array(y_train[:val_size])\n",
    "y_train = np.array(y_train[val_size:])\n",
    "\n",
    "\n",
    "# fit model\n",
    "history = model.fit(x_train,y_train,epochs=3, batch_size=32, \n",
    "                    validation_data=(x_val,y_val) )"
   ]
  },
  {
   "cell_type": "markdown",
   "id": "8489ddeb",
   "metadata": {},
   "source": [
    "# plot loss, validation loss, accuracy, and validation accuracy\n"
   ]
  },
  {
   "cell_type": "code",
   "execution_count": 26,
   "id": "72004d34",
   "metadata": {},
   "outputs": [
    {
     "name": "stderr",
     "output_type": "stream",
     "text": [
      "/tmp/ipykernel_4868/4068500157.py:12: UserWarning: Legend does not support handles for list instances.\n",
      "A proxy artist may be used instead.\n",
      "See: https://matplotlib.org/stable/tutorials/intermediate/legend_guide.html#controlling-the-legend-entries\n",
      "  plt.legend([loss, accuracy, val_loss, val_acc],['loss', 'accuracy', 'val_loss', 'val_accuracy'])\n"
     ]
    },
    {
     "data": {
      "image/png": "[encoded data removed]",
      "text/plain": [
       "<Figure size 640x480 with 1 Axes>"
      ]
     },
     "metadata": {},
     "output_type": "display_data"
    }
   ],
   "source": [
    "import matplotlib.pyplot as plt\n",
    "import numpy as np\n",
    "loss = history.history['loss']\n",
    "accuracy = history.history['accuracy']\n",
    "val_loss = history.history['val_loss']\n",
    "val_acc = history.history['val_accuracy']\n",
    "x = list(range(1,4))\n",
    "plt.plot(x, accuracy)\n",
    "plt.plot(x, loss)\n",
    "plt.plot(x, val_loss)\n",
    "plt.plot(x, val_acc)\n",
    "plt.legend([loss, accuracy, val_loss, val_acc],['loss', 'accuracy', 'val_loss', 'val_accuracy'])\n",
    "plt.show()"
   ]
  },
  {
   "cell_type": "code",
   "execution_count": 17,
   "id": "f769dfb3",
   "metadata": {},
   "outputs": [
    {
     "name": "stdout",
     "output_type": "stream",
     "text": [
      "5/5 [==============================] - 0s 86ms/step - loss: -1038.0514 - accuracy: 0.8209\n"
     ]
    }
   ],
   "source": [
    "pred = model.evaluate(np.array(x_test),np.array(y_test))"
   ]
  },
  {
   "cell_type": "markdown",
   "id": "0e47f192",
   "metadata": {},
   "source": [
    "### final remarks"
   ]
  },
  {
   "cell_type": "markdown",
   "id": "8669a2bc",
   "metadata": {},
   "source": [
    "Obviously this could be tweeked and improved quite a bit.  I should be using k-means crossvalidation to determine the best number of epochs and batch size and I should remove some of the low quality images of canadian taiga.\n",
    "All in all this prototype seems to be successful in that it can predict with >90% accuracy.  \n",
    "Obviously I will start making models that can predict less obvious and hopefully more helpful things than this."
   ]
  }
 ],
 "metadata": {
  "kernelspec": {
   "display_name": "Python 3 (ipykernel)",
   "language": "python",
   "name": "python3"
  },
  "language_info": {
   "codemirror_mode": {
    "name": "ipython",
    "version": 3
   },
   "file_extension": ".py",
   "mimetype": "text/x-python",
   "name": "python",
   "nbconvert_exporter": "python",
   "pygments_lexer": "ipython3",
   "version": "3.10.9"
  }
 },
 "nbformat": 4,
 "nbformat_minor": 5
}
