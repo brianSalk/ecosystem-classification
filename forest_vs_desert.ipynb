{
 "cells": [
  {
   "cell_type": "markdown",
   "id": "62c6225d",
   "metadata": {},
   "source": [
    "## forest vs. desert\n",
    "This model is a prototype of a prototype.  \n",
    "eventually I want to do much more with ecosystem classification but I need to start somewhere  \n",
    "I really need ecologists to help me with this project!!!!!!  "
   ]
  },
  {
   "cell_type": "markdown",
   "id": "3836583d",
   "metadata": {},
   "source": [
    "### Import all the stuff for models"
   ]
  },
  {
   "cell_type": "code",
   "execution_count": 6,
   "id": "747bcc7f",
   "metadata": {},
   "outputs": [],
   "source": [
    "import os                                \n",
    "os.environ['TF_CPP_MIN_LOG_LEVEL'] = '2' # silence all the tensorflow warnings\n",
    "import tensorflow as tf\n",
    "from tensorflow import keras\n",
    "from tensorflow.keras.models import Sequential\n",
    "from tensorflow.keras import layers"
   ]
  },
  {
   "cell_type": "markdown",
   "id": "eecf3728",
   "metadata": {},
   "source": [
    "### import images from the directories"
   ]
  },
  {
   "cell_type": "code",
   "execution_count": 7,
   "id": "af7784b3",
   "metadata": {},
   "outputs": [],
   "source": [
    "from tensorflow.keras.preprocessing.image import load_img\n",
    "from tensorflow.keras.preprocessing import image_dataset_from_directory\n",
    "\n",
    "import matplotlib.pyplot as plt\n",
    "base_dir = \"./ecosystems/\"\n",
    "forest_dir = os.path.join(base_dir, 'forest/')\n",
    "desert_dir = os.path.join(base_dir, 'desert/')"
   ]
  },
  {
   "cell_type": "markdown",
   "id": "87d039f1",
   "metadata": {},
   "source": [
    "### train on just forest and desert, use validation set.\n",
    "I am getting impatiant, I just want to see if it can even get forest vs. desert with about 700 pics of each"
   ]
  },
  {
   "cell_type": "code",
   "execution_count": 8,
   "id": "6d1695a5",
   "metadata": {},
   "outputs": [
    {
     "name": "stdout",
     "output_type": "stream",
     "text": [
      "Found 3058 files belonging to 2 classes.\n"
     ]
    }
   ],
   "source": [
    "dataset = image_dataset_from_directory(base_dir, labels='inferred',image_size = (300,300),batch_size=64)\n",
    "iterator = iter(dataset)\n",
    "batch_size = 64\n",
    "num_batches = 21\n",
    "x_train = []\n",
    "y_train = []\n",
    "x_test = []\n",
    "y_test = []\n",
    "for batch in range(num_batches):\n",
    "    (x_batch, y_batch) = next(iterator)\n",
    "    x_train.extend(x_batch)\n",
    "    y_train.extend(y_batch)\n",
    "# 20% of data should be used for testing\n",
    "test_size = int(len(x_train) * .2)\n",
    "x_test = x_train[:test_size]\n",
    "y_test = y_train[:test_size]\n",
    "x_train = x_train[test_size:]\n",
    "y_train = y_train[test_size:]\n"
   ]
  },
  {
   "cell_type": "code",
   "execution_count": 9,
   "id": "f03ef095",
   "metadata": {},
   "outputs": [
    {
     "name": "stdout",
     "output_type": "stream",
     "text": [
      "Epoch 1/2\n",
      "27/27 [==============================] - 33s 868ms/step - loss: 3439.7651 - accuracy: 0.7898 - val_loss: 104.6167 - val_accuracy: 0.9674\n",
      "Epoch 2/2\n",
      "27/27 [==============================] - 23s 816ms/step - loss: 188.3225 - accuracy: 0.9535 - val_loss: 190.2679 - val_accuracy: 0.9302\n"
     ]
    }
   ],
   "source": [
    "from tensorflow.keras import layers\n",
    "from tensorflow.keras.losses import binary_crossentropy\n",
    "import tensorflow as tf\n",
    "from tensorflow.keras.models import Sequential\n",
    "from tensorflow.keras import layers\n",
    "import numpy as np\n",
    "\n",
    "# define model\n",
    "model = keras.models.Sequential()\n",
    "model.add(layers.Conv2D(filters=32, kernel_size=(3, 3), activation='relu', input_shape=(300, 300, 3)))\n",
    "model.add(layers.MaxPooling2D(pool_size=(2,2)))\n",
    "model.add(layers.Flatten())\n",
    "model.add(layers.Dense(128, activation='relu'))\n",
    "model.add(layers.Dense(1, activation='sigmoid'))\n",
    "# compile model\n",
    "model.compile(loss='binary_crossentropy', optimizer='adam',metrics=['accuracy'])\n",
    "# create validation sets\n",
    "val_size = int(len(x_train)*.2)\n",
    "x_val = np.array(x_train[:val_size])\n",
    "x_train = np.array(x_train[val_size:])\n",
    "y_val = np.array(y_train[:val_size])\n",
    "y_train = np.array(y_train[val_size:])\n",
    "\n",
    "\n",
    "# fit model\n",
    "history = model.fit(x_train,y_train,epochs=2, batch_size=32, \n",
    "                    validation_data=(x_val,y_val) )"
   ]
  },
  {
   "cell_type": "code",
   "execution_count": 10,
   "id": "f769dfb3",
   "metadata": {},
   "outputs": [
    {
     "name": "stdout",
     "output_type": "stream",
     "text": [
      "9/9 [==============================] - 1s 98ms/step - loss: 186.1987 - accuracy: 0.9216\n"
     ]
    }
   ],
   "source": [
    "pred = model.evaluate(np.array(x_test),np.array(y_test))"
   ]
  },
  {
   "cell_type": "markdown",
   "id": "0e47f192",
   "metadata": {},
   "source": [
    "### final remarks"
   ]
  },
  {
   "cell_type": "markdown",
   "id": "8669a2bc",
   "metadata": {},
   "source": [
    "Obviously this could be tweeked and improved quite a bit.  I should be using k-means crossvalidation to determine the best number of epochs and batch size and I should remove some of the low quality images of canadian taiga.\n",
    "All in all this prototype seems to be successful in that it can predict with >90% accuracy.  \n",
    "Obviously I will start making models that can predict less obvious and hopefully more helpful things than this."
   ]
  }
 ],
 "metadata": {
  "kernelspec": {
   "display_name": "Python 3 (ipykernel)",
   "language": "python",
   "name": "python3"
  },
  "language_info": {
   "codemirror_mode": {
    "name": "ipython",
    "version": 3
   },
   "file_extension": ".py",
   "mimetype": "text/x-python",
   "name": "python",
   "nbconvert_exporter": "python",
   "pygments_lexer": "ipython3",
   "version": "3.9.13"
  }
 },
 "nbformat": 4,
 "nbformat_minor": 5
}
