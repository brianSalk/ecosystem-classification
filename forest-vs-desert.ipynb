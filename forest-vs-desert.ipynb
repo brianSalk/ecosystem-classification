{
 "cells": [
  {
   "cell_type": "code",
   "execution_count": 11,
   "id": "6af6b2d1",
   "metadata": {},
   "outputs": [],
   "source": [
    "from tensorflow import keras\n",
    "from keras.utils import image_dataset_from_directory\n",
    "from keras.preprocessing.image import ImageDataGenerator\n",
    "import numpy as np\n",
    "import splitfolders"
   ]
  },
  {
   "cell_type": "markdown",
   "id": "3d617f75",
   "metadata": {},
   "source": [
    "# create ImageDataGenerator for data augmentation"
   ]
  },
  {
   "cell_type": "code",
   "execution_count": 12,
   "id": "f5523f7b",
   "metadata": {},
   "outputs": [],
   "source": [
    "augment_data = keras.Sequential([\n",
    "    keras.layers.RandomFlip(\"horizontal_and_vertical\"),\n",
    "    keras.layers.RandomRotation((-.2,.3))\n",
    "])"
   ]
  },
  {
   "cell_type": "code",
   "execution_count": 13,
   "id": "b356703e",
   "metadata": {},
   "outputs": [],
   "source": [
    "old_data_path = 'data/'\n",
    "data_path = 'slides/'\n",
    "train_path = data_path + 'train'\n",
    "test_path = data_path + 'test'\n",
    "val_path = data_path + 'val'"
   ]
  },
  {
   "cell_type": "markdown",
   "id": "86f8312f",
   "metadata": {},
   "source": [
    "## seperate data int train, val, and test\n",
    "move data from `old_data_path` into three new directories in `data_path` called train, val, and test"
   ]
  },
  {
   "cell_type": "code",
   "execution_count": 14,
   "id": "682e4ddf",
   "metadata": {},
   "outputs": [
    {
     "name": "stderr",
     "output_type": "stream",
     "text": [
      "Copying files: 1713 files [00:00, 6716.31 files/s]\n"
     ]
    }
   ],
   "source": [
    "# ratio=(train,val,test)\n",
    "splitfolders.ratio(old_data_path, output=data_path, ratio=(.7,.1,.2))"
   ]
  },
  {
   "cell_type": "code",
   "execution_count": 15,
   "id": "28a10db3",
   "metadata": {},
   "outputs": [
    {
     "name": "stdout",
     "output_type": "stream",
     "text": [
      "Found 1198 files belonging to 2 classes.\n",
      "Found 170 files belonging to 2 classes.\n",
      "Found 345 files belonging to 2 classes.\n"
     ]
    }
   ],
   "source": [
    "train_data = image_dataset_from_directory(train_path,\n",
    "                                           batch_size=8, \n",
    "                                           image_size=(300,300),\n",
    "                                           shuffle=True\n",
    "                                          )\n",
    "\n",
    "validation_data = image_dataset_from_directory(val_path, \n",
    "                                                batch_size=8, \n",
    "                                                image_size=(300,300),\n",
    "                                               )\n",
    "test_data = image_dataset_from_directory(test_path,\n",
    "                                          batch_size=8, \n",
    "                                          image_size=(300,300),\n",
    "                                         )"
   ]
  },
  {
   "cell_type": "code",
   "execution_count": 16,
   "id": "6614ea9f",
   "metadata": {},
   "outputs": [],
   "source": [
    "from keras import Sequential\n",
    "from keras import layers\n",
    "model = Sequential()\n",
    "model.add(augment_data)\n",
    "model.add(layers.Conv2D(8, (3,3), activation='relu', input_shape=(300,300,3)))\n",
    "model.add(layers.MaxPooling2D(2,2))\n",
    "\n",
    "model.add(layers.Conv2D(16, (3,3), activation='relu'))\n",
    "model.add(layers.MaxPooling2D(2,2))\n",
    "\n",
    "model.add(layers.Flatten())\n",
    "model.add(layers.Dense(64, activation='relu'))\n",
    "model.add(layers.Dense(1, activation='sigmoid'))"
   ]
  },
  {
   "cell_type": "markdown",
   "id": "c2ff8c2e",
   "metadata": {},
   "source": [
    "# compile model"
   ]
  },
  {
   "cell_type": "code",
   "execution_count": 17,
   "id": "527c7e61",
   "metadata": {},
   "outputs": [
    {
     "ename": "ModuleNotFoundError",
     "evalue": "No module named 'keras.optimizers.adam'",
     "output_type": "error",
     "traceback": [
      "\u001b[0;31m---------------------------------------------------------------------------\u001b[0m",
      "\u001b[0;31mModuleNotFoundError\u001b[0m                       Traceback (most recent call last)",
      "Cell \u001b[0;32mIn[17], line 1\u001b[0m\n\u001b[0;32m----> 1\u001b[0m \u001b[38;5;28;01mfrom\u001b[39;00m \u001b[38;5;21;01mkeras\u001b[39;00m\u001b[38;5;21;01m.\u001b[39;00m\u001b[38;5;21;01moptimizers\u001b[39;00m\u001b[38;5;21;01m.\u001b[39;00m\u001b[38;5;21;01madam\u001b[39;00m \u001b[38;5;28;01mimport\u001b[39;00m Adam\n\u001b[1;32m      2\u001b[0m epochs \u001b[38;5;241m=\u001b[39m \u001b[38;5;241m3\u001b[39m\n\u001b[1;32m      3\u001b[0m model\u001b[38;5;241m.\u001b[39mcompile(loss\u001b[38;5;241m=\u001b[39m\u001b[38;5;124m'\u001b[39m\u001b[38;5;124mbinary_crossentropy\u001b[39m\u001b[38;5;124m'\u001b[39m, optimizer\u001b[38;5;241m=\u001b[39m\u001b[38;5;124m'\u001b[39m\u001b[38;5;124madam\u001b[39m\u001b[38;5;124m'\u001b[39m,\n\u001b[1;32m      4\u001b[0m              metrics\u001b[38;5;241m=\u001b[39m[\u001b[38;5;124m'\u001b[39m\u001b[38;5;124maccuracy\u001b[39m\u001b[38;5;124m'\u001b[39m])\n",
      "\u001b[0;31mModuleNotFoundError\u001b[0m: No module named 'keras.optimizers.adam'"
     ]
    }
   ],
   "source": [
    "\n",
    "from keras.optimizers.adam import Adam\n",
    "epochs = 3\n",
    "model.compile(loss='binary_crossentropy', optimizer='adam',\n",
    "             metrics=['accuracy'])"
   ]
  },
  {
   "cell_type": "code",
   "execution_count": 15,
   "id": "bc27b846",
   "metadata": {},
   "outputs": [
    {
     "name": "stdout",
     "output_type": "stream",
     "text": [
      "Epoch 1/3\n"
     ]
    },
    {
     "name": "stderr",
     "output_type": "stream",
     "text": [
      "2023-07-06 23:16:08.625556: I tensorflow/core/common_runtime/executor.cc:1197] [/device:CPU:0] (DEBUG INFO) Executor start aborting (this does not indicate an error and you can ignore this message): INVALID_ARGUMENT: You must feed a value for placeholder tensor 'Placeholder/_4' with dtype int32 and shape [1198]\n",
      "\t [[{{node Placeholder/_4}}]]\n",
      "2023-07-06 23:16:08.626152: I tensorflow/core/common_runtime/executor.cc:1197] [/device:CPU:0] (DEBUG INFO) Executor start aborting (this does not indicate an error and you can ignore this message): INVALID_ARGUMENT: You must feed a value for placeholder tensor 'Placeholder/_0' with dtype string and shape [1198]\n",
      "\t [[{{node Placeholder/_0}}]]\n"
     ]
    },
    {
     "name": "stdout",
     "output_type": "stream",
     "text": [
      "150/150 [==============================] - ETA: 0s - loss: 28.9249 - accuracy: 0.8614"
     ]
    },
    {
     "name": "stderr",
     "output_type": "stream",
     "text": [
      "2023-07-06 23:16:21.287592: I tensorflow/core/common_runtime/executor.cc:1197] [/device:CPU:0] (DEBUG INFO) Executor start aborting (this does not indicate an error and you can ignore this message): INVALID_ARGUMENT: You must feed a value for placeholder tensor 'Placeholder/_4' with dtype int32 and shape [170]\n",
      "\t [[{{node Placeholder/_4}}]]\n",
      "2023-07-06 23:16:21.287785: I tensorflow/core/common_runtime/executor.cc:1197] [/device:CPU:0] (DEBUG INFO) Executor start aborting (this does not indicate an error and you can ignore this message): INVALID_ARGUMENT: You must feed a value for placeholder tensor 'Placeholder/_4' with dtype int32 and shape [170]\n",
      "\t [[{{node Placeholder/_4}}]]\n"
     ]
    },
    {
     "name": "stdout",
     "output_type": "stream",
     "text": [
      "150/150 [==============================] - 13s 82ms/step - loss: 28.9249 - accuracy: 0.8614 - val_loss: 0.6445 - val_accuracy: 0.9118\n",
      "Epoch 2/3\n",
      "150/150 [==============================] - 12s 83ms/step - loss: 1.5862 - accuracy: 0.9098 - val_loss: 0.5975 - val_accuracy: 0.9118\n",
      "Epoch 3/3\n",
      "150/150 [==============================] - 12s 82ms/step - loss: 0.5769 - accuracy: 0.9098 - val_loss: 0.5548 - val_accuracy: 0.9118\n"
     ]
    }
   ],
   "source": [
    "history = model.fit(train_data,\n",
    "                    epochs=epochs,\n",
    "                    validation_data=validation_data,\n",
    "                    validation_batch_size=8\n",
    "                   )"
   ]
  },
  {
   "cell_type": "markdown",
   "id": "4101c3c6",
   "metadata": {},
   "source": [
    "# graph accuracy"
   ]
  },
  {
   "cell_type": "code",
   "execution_count": 7,
   "id": "92cf8231",
   "metadata": {},
   "outputs": [
    {
     "name": "stdout",
     "output_type": "stream",
     "text": [
      "dict_keys(['loss', 'accuracy', 'val_loss', 'val_accuracy'])\n"
     ]
    },
    {
     "data": {
      "text/plain": [
       "<matplotlib.legend.Legend at 0x7fbedbfb31c0>"
      ]
     },
     "execution_count": 7,
     "metadata": {},
     "output_type": "execute_result"
    },
    {
     "data": {
      "image/png": "[encoded data removed]",
      "text/plain": [
       "<Figure size 640x480 with 1 Axes>"
      ]
     },
     "metadata": {},
     "output_type": "display_data"
    }
   ],
   "source": [
    "import matplotlib.pyplot as plt\n",
    "\n",
    "x = np.linspace(1,epochs,epochs)\n",
    "print(history.history.keys())\n",
    "\n",
    "acc_plt, = plt.plot(x, history.history['accuracy'])\n",
    "val_acc_plt, = plt.plot(x, history.history['val_accuracy'])\n",
    "plt.legend([acc_plt, val_acc_plt],['accuracy', 'validation accuracy'])"
   ]
  },
  {
   "cell_type": "markdown",
   "id": "d540aa34",
   "metadata": {},
   "source": [
    "# graph loss"
   ]
  },
  {
   "cell_type": "code",
   "execution_count": 8,
   "id": "610c9969",
   "metadata": {},
   "outputs": [
    {
     "data": {
      "text/plain": [
       "<matplotlib.legend.Legend at 0x7fbe59a0b6a0>"
      ]
     },
     "execution_count": 8,
     "metadata": {},
     "output_type": "execute_result"
    },
    {
     "data": {
      "image/png": "[encoded data removed]",
      "text/plain": [
       "<Figure size 640x480 with 1 Axes>"
      ]
     },
     "metadata": {},
     "output_type": "display_data"
    }
   ],
   "source": [
    "loss_plt, = plt.plot(x,history.history['loss'])\n",
    "val_loss_plt, = plt.plot(x,history.history['val_loss'])\n",
    "plt.legend([loss_plt, val_loss_plt],['loss','validation loss'])"
   ]
  },
  {
   "cell_type": "code",
   "execution_count": 12,
   "id": "2fc5198a",
   "metadata": {},
   "outputs": [
    {
     "name": "stdout",
     "output_type": "stream",
     "text": [
      "50/50 [==============================] - 1s 18ms/step - loss: 0.4814 - accuracy: 0.8975\n"
     ]
    }
   ],
   "source": [
    "evaluation = model.evaluate(test_data)"
   ]
  },
  {
   "cell_type": "code",
   "execution_count": 21,
   "id": "cee8a5ed",
   "metadata": {},
   "outputs": [
    {
     "name": "stdout",
     "output_type": "stream",
     "text": [
      "Loss: 0.4813988506793976, Accuracy: 0.8974999785423279\n"
     ]
    }
   ],
   "source": [
    "print(f\"Loss: {evaluation[0]}, Accuracy: {evaluation[1]}\")"
   ]
  }
 ],
 "metadata": {
  "kernelspec": {
   "display_name": "Python 3 (ipykernel)",
   "language": "python",
   "name": "python3"
  },
  "language_info": {
   "codemirror_mode": {
    "name": "ipython",
    "version": 3
   },
   "file_extension": ".py",
   "mimetype": "text/x-python",
   "name": "python",
   "nbconvert_exporter": "python",
   "pygments_lexer": "ipython3",
   "version": "3.10.9"
  }
 },
 "nbformat": 4,
 "nbformat_minor": 5
}
