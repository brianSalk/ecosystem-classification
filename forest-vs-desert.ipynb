{
 "cells": [
  {
   "cell_type": "code",
   "execution_count": 7,
   "id": "6af6b2d1",
   "metadata": {},
   "outputs": [],
   "source": [
    "from tensorflow import keras\n",
    "from keras.utils import image_dataset_from_directory\n",
    "from keras.preprocessing.image import ImageDataGenerator\n",
    "import numpy as np"
   ]
  },
  {
   "cell_type": "markdown",
   "id": "3d617f75",
   "metadata": {},
   "source": [
    "# create ImageDataGenerator for data augmentation"
   ]
  },
  {
   "cell_type": "code",
   "execution_count": 8,
   "id": "f5523f7b",
   "metadata": {},
   "outputs": [
    {
     "name": "stderr",
     "output_type": "stream",
     "text": [
      "2023-06-29 19:00:45.194038: I tensorflow/compiler/xla/stream_executor/cuda/cuda_gpu_executor.cc:996] successful NUMA node read from SysFS had negative value (-1), but there must be at least one NUMA node, so returning NUMA node zero. See more at https://github.com/torvalds/linux/blob/v6.0/Documentation/ABI/testing/sysfs-bus-pci#L344-L355\n",
      "2023-06-29 19:00:45.194470: W tensorflow/core/common_runtime/gpu/gpu_device.cc:1956] Cannot dlopen some GPU libraries. Please make sure the missing libraries mentioned above are installed properly if you would like to use GPU. Follow the guide at https://www.tensorflow.org/install/gpu for how to download and setup the required libraries for your platform.\n",
      "Skipping registering GPU devices...\n"
     ]
    }
   ],
   "source": [
    "augment_data = keras.Sequential([\n",
    "    keras.layers.RandomFlip(\"horizontal_and_vertical\")\n",
    "])"
   ]
  },
  {
   "cell_type": "code",
   "execution_count": 9,
   "id": "28a10db3",
   "metadata": {},
   "outputs": [
    {
     "name": "stdout",
     "output_type": "stream",
     "text": [
      "Found 2000 files belonging to 2 classes.\n",
      "Found 658 files belonging to 2 classes.\n",
      "Found 400 files belonging to 2 classes.\n"
     ]
    }
   ],
   "source": [
    "\"\"\"\n",
    "train_data = train_gen.flow_from_directory('./ecosystems/train/',\n",
    "                                           batch_size=8, \n",
    "                                           target_size=(300,300),\n",
    "                                           color_mode='rgb',\n",
    "                                           class_mode='categorical',\n",
    "                                           shuffle=True\n",
    "                                          )                                          \n",
    "\"\"\"\n",
    "train_data = image_dataset_from_directory('./ecosystems/train/',\n",
    "                                           batch_size=8, \n",
    "                                           image_size=(300,300),\n",
    "                                           shuffle=True\n",
    "                                          )\n",
    "\n",
    "validation_data = image_dataset_from_directory('./ecosystems/val/', \n",
    "                                                batch_size=8, \n",
    "                                                image_size=(300,300),\n",
    "                                               )\n",
    "test_data = image_dataset_from_directory('./ecosystems/test/',\n",
    "                                          batch_size=8, \n",
    "                                          image_size=(300,300),\n",
    "                                         )"
   ]
  },
  {
   "cell_type": "code",
   "execution_count": 10,
   "id": "6614ea9f",
   "metadata": {},
   "outputs": [],
   "source": [
    "from keras import Sequential\n",
    "from keras import layers\n",
    "model = Sequential()\n",
    "model.add(augment_data)\n",
    "model.add(layers.Conv2D(8, (3,3), activation='relu', input_shape=(300,300,3)))\n",
    "model.add(layers.MaxPooling2D(2,2))\n",
    "\n",
    "model.add(layers.Conv2D(16, (3,3), activation='relu'))\n",
    "model.add(layers.MaxPooling2D(2,2))\n",
    "\n",
    "model.add(layers.Flatten())\n",
    "model.add(layers.Dense(64, activation='relu'))\n",
    "model.add(layers.Dense(1, activation='sigmoid'))"
   ]
  },
  {
   "cell_type": "markdown",
   "id": "c2ff8c2e",
   "metadata": {},
   "source": [
    "# compile model"
   ]
  },
  {
   "cell_type": "code",
   "execution_count": 11,
   "id": "527c7e61",
   "metadata": {},
   "outputs": [],
   "source": [
    "from keras.optimizers.rmsprop import RMSprop\n",
    "from keras.optimizers.adam import Adam\n",
    "epochs = 2\n",
    "model.compile(loss='binary_crossentropy', optimizer='adam',\n",
    "             metrics=['accuracy'])"
   ]
  },
  {
   "cell_type": "code",
   "execution_count": 12,
   "id": "bc27b846",
   "metadata": {},
   "outputs": [
    {
     "name": "stdout",
     "output_type": "stream",
     "text": [
      "Epoch 1/2\n"
     ]
    },
    {
     "name": "stderr",
     "output_type": "stream",
     "text": [
      "2023-06-29 19:00:51.734804: I tensorflow/core/common_runtime/executor.cc:1197] [/device:CPU:0] (DEBUG INFO) Executor start aborting (this does not indicate an error and you can ignore this message): INVALID_ARGUMENT: You must feed a value for placeholder tensor 'Placeholder/_4' with dtype int32 and shape [2000]\n",
      "\t [[{{node Placeholder/_4}}]]\n",
      "2023-06-29 19:00:51.735348: I tensorflow/core/common_runtime/executor.cc:1197] [/device:CPU:0] (DEBUG INFO) Executor start aborting (this does not indicate an error and you can ignore this message): INVALID_ARGUMENT: You must feed a value for placeholder tensor 'Placeholder/_4' with dtype int32 and shape [2000]\n",
      "\t [[{{node Placeholder/_4}}]]\n"
     ]
    },
    {
     "name": "stdout",
     "output_type": "stream",
     "text": [
      "250/250 [==============================] - ETA: 0s - loss: 14.1292 - accuracy: 0.8990"
     ]
    },
    {
     "name": "stderr",
     "output_type": "stream",
     "text": [
      "2023-06-29 19:01:12.327180: I tensorflow/core/common_runtime/executor.cc:1197] [/device:CPU:0] (DEBUG INFO) Executor start aborting (this does not indicate an error and you can ignore this message): INVALID_ARGUMENT: You must feed a value for placeholder tensor 'Placeholder/_4' with dtype int32 and shape [658]\n",
      "\t [[{{node Placeholder/_4}}]]\n",
      "2023-06-29 19:01:12.327403: I tensorflow/core/common_runtime/executor.cc:1197] [/device:CPU:0] (DEBUG INFO) Executor start aborting (this does not indicate an error and you can ignore this message): INVALID_ARGUMENT: You must feed a value for placeholder tensor 'Placeholder/_4' with dtype int32 and shape [658]\n",
      "\t [[{{node Placeholder/_4}}]]\n"
     ]
    },
    {
     "name": "stdout",
     "output_type": "stream",
     "text": [
      "250/250 [==============================] - 22s 84ms/step - loss: 14.1292 - accuracy: 0.8990 - val_loss: 0.5971 - val_accuracy: 0.9195\n",
      "Epoch 2/2\n",
      "250/250 [==============================] - 21s 83ms/step - loss: 0.4768 - accuracy: 0.9015 - val_loss: 0.3954 - val_accuracy: 0.9210\n"
     ]
    }
   ],
   "source": [
    "history = model.fit(train_data,\n",
    "                    epochs=epochs,\n",
    "                    validation_data=validation_data,\n",
    "                    validation_batch_size=8\n",
    "                   )"
   ]
  },
  {
   "cell_type": "markdown",
   "id": "4101c3c6",
   "metadata": {},
   "source": [
    "# graph accuracy"
   ]
  },
  {
   "cell_type": "code",
   "execution_count": 13,
   "id": "92cf8231",
   "metadata": {},
   "outputs": [
    {
     "name": "stdout",
     "output_type": "stream",
     "text": [
      "dict_keys(['loss', 'accuracy', 'val_loss', 'val_accuracy'])\n"
     ]
    },
    {
     "data": {
      "text/plain": [
       "<matplotlib.legend.Legend at 0x7fe97040f910>"
      ]
     },
     "execution_count": 13,
     "metadata": {},
     "output_type": "execute_result"
    },
    {
     "data": {
      "image/png": "[encoded data removed]",
      "text/plain": [
       "<Figure size 640x480 with 1 Axes>"
      ]
     },
     "metadata": {},
     "output_type": "display_data"
    }
   ],
   "source": [
    "import matplotlib.pyplot as plt\n",
    "\n",
    "x = np.linspace(1,epochs,epochs)\n",
    "print(history.history.keys())\n",
    "\n",
    "acc_plt, = plt.plot(x, history.history['accuracy'])\n",
    "val_acc_plt, = plt.plot(x, history.history['val_accuracy'])\n",
    "plt.legend([acc_plt, val_acc_plt],['accuracy', 'validation accuracy'])"
   ]
  },
  {
   "cell_type": "markdown",
   "id": "d540aa34",
   "metadata": {},
   "source": [
    "# graph loss"
   ]
  },
  {
   "cell_type": "code",
   "execution_count": 14,
   "id": "610c9969",
   "metadata": {},
   "outputs": [
    {
     "data": {
      "text/plain": [
       "<matplotlib.legend.Legend at 0x7fe90c66e8f0>"
      ]
     },
     "execution_count": 14,
     "metadata": {},
     "output_type": "execute_result"
    },
    {
     "data": {
      "image/png": "[encoded data removed]",
      "text/plain": [
       "<Figure size 640x480 with 1 Axes>"
      ]
     },
     "metadata": {},
     "output_type": "display_data"
    }
   ],
   "source": [
    "loss_plt, = plt.plot(x,history.history['loss'])\n",
    "val_loss_plt, = plt.plot(x,history.history['val_loss'])\n",
    "plt.legend([loss_plt, val_loss_plt],['loss','validation loss'])"
   ]
  },
  {
   "cell_type": "code",
   "execution_count": 15,
   "id": "2fc5198a",
   "metadata": {},
   "outputs": [
    {
     "name": "stdout",
     "output_type": "stream",
     "text": [
      " 7/50 [===>..........................] - ETA: 0s - loss: 0.5688 - accuracy: 0.9107"
     ]
    },
    {
     "name": "stderr",
     "output_type": "stream",
     "text": [
      "2023-06-29 19:01:44.689297: I tensorflow/core/common_runtime/executor.cc:1197] [/device:CPU:0] (DEBUG INFO) Executor start aborting (this does not indicate an error and you can ignore this message): INVALID_ARGUMENT: You must feed a value for placeholder tensor 'Placeholder/_4' with dtype int32 and shape [400]\n",
      "\t [[{{node Placeholder/_4}}]]\n",
      "2023-06-29 19:01:44.689524: I tensorflow/core/common_runtime/executor.cc:1197] [/device:CPU:0] (DEBUG INFO) Executor start aborting (this does not indicate an error and you can ignore this message): INVALID_ARGUMENT: You must feed a value for placeholder tensor 'Placeholder/_4' with dtype int32 and shape [400]\n",
      "\t [[{{node Placeholder/_4}}]]\n"
     ]
    },
    {
     "name": "stdout",
     "output_type": "stream",
     "text": [
      "50/50 [==============================] - 1s 18ms/step - loss: 0.4241 - accuracy: 0.9075\n"
     ]
    },
    {
     "data": {
      "text/plain": [
       "[0.4241165816783905, 0.9075000286102295]"
      ]
     },
     "execution_count": 15,
     "metadata": {},
     "output_type": "execute_result"
    }
   ],
   "source": [
    "model.evaluate(test_data)"
   ]
  },
  {
   "cell_type": "code",
   "execution_count": null,
   "id": "cee8a5ed",
   "metadata": {},
   "outputs": [],
   "source": []
  }
 ],
 "metadata": {
  "kernelspec": {
   "display_name": "Python 3 (ipykernel)",
   "language": "python",
   "name": "python3"
  },
  "language_info": {
   "codemirror_mode": {
    "name": "ipython",
    "version": 3
   },
   "file_extension": ".py",
   "mimetype": "text/x-python",
   "name": "python",
   "nbconvert_exporter": "python",
   "pygments_lexer": "ipython3",
   "version": "3.10.9"
  }
 },
 "nbformat": 4,
 "nbformat_minor": 5
}
