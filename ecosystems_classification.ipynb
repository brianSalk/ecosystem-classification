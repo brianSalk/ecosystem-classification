{
 "cells": [
  {
   "cell_type": "markdown",
   "id": "62c6225d",
   "metadata": {},
   "source": [
    "## Environment Identifier\n",
    "This model will be trained on google maps images of overview images of various ecosystems and use supervised categorical machine learning to identify various types of terestrial ecosystems:\n",
    "#### forest\n",
    "#### desert\n",
    "#### grassland\n",
    "#### tundra\n",
    "I am not sure if I want to add urban to the list of ecosystems"
   ]
  },
  {
   "cell_type": "markdown",
   "id": "3836583d",
   "metadata": {},
   "source": [
    "### Import all the stuff for models"
   ]
  },
  {
   "cell_type": "code",
   "execution_count": 12,
   "id": "747bcc7f",
   "metadata": {},
   "outputs": [],
   "source": [
    "import os                                \n",
    "os.environ['TF_CPP_MIN_LOG_LEVEL'] = '2' # silence all the tensorflow warnings\n",
    "import tensorflow as tf\n",
    "from tensorflow import keras\n",
    "from tensorflow.keras.models import Sequential\n",
    "from tensorflow.keras import layers"
   ]
  },
  {
   "cell_type": "markdown",
   "id": "eecf3728",
   "metadata": {},
   "source": [
    "### import images from the directories"
   ]
  },
  {
   "cell_type": "code",
   "execution_count": 13,
   "id": "af7784b3",
   "metadata": {},
   "outputs": [],
   "source": [
    "from tensorflow.keras.preprocessing.image import load_img\n",
    "from tensorflow.keras.preprocessing import image_dataset_from_directory\n",
    "\n",
    "import matplotlib.pyplot as plt\n",
    "base_dir = \"./ecosystems/\"\n",
    "forest_dir = os.path.join(base_dir, 'forest/')\n",
    "grassland_dir = os.path.join(base_dir, 'grassland/')\n",
    "tundra_dir = os.path.join(base_dir, 'tundra/')\n",
    "desert_dir = os.path.join(base_dir, 'desert/')"
   ]
  },
  {
   "cell_type": "markdown",
   "id": "87d039f1",
   "metadata": {},
   "source": [
    "### train on just forest and desert, use validation set.\n",
    "I am getting impatiant, I just want to see if it can even get forest vs. desert with about 700 pics of each"
   ]
  },
  {
   "cell_type": "code",
   "execution_count": 14,
   "id": "6d1695a5",
   "metadata": {},
   "outputs": [
    {
     "name": "stdout",
     "output_type": "stream",
     "text": [
      "Found 1408 files belonging to 2 classes.\n"
     ]
    }
   ],
   "source": [
    "dataset = image_dataset_from_directory(base_dir, labels='inferred',image_size = (250,250),batch_size=64)\n",
    "iterator = iter(dataset)\n",
    "batch_size = 64\n",
    "num_batches = 21\n",
    "x_train = []\n",
    "y_train = []\n",
    "for batch in range(num_batches):\n",
    "    (x_batch, y_batch) = next(iterator)\n",
    "    x_train.extend(x_batch)\n",
    "    y_train.extend(y_batch)\n"
   ]
  },
  {
   "cell_type": "code",
   "execution_count": 17,
   "id": "f03ef095",
   "metadata": {},
   "outputs": [
    {
     "name": "stdout",
     "output_type": "stream",
     "text": [
      "18/18 [==============================] - 11s 556ms/step - loss: 1200.7137 - accuracy: 0.6094 - val_loss: 1.7652 - val_accuracy: 0.9141\n"
     ]
    }
   ],
   "source": [
    "from tensorflow.keras import layers\n",
    "from tensorflow.keras.losses import binary_crossentropy\n",
    "import tensorflow as tf\n",
    "from tensorflow.keras.models import Sequential\n",
    "from tensorflow.keras import layers\n",
    "import numpy as np\n",
    "\n",
    "# define model\n",
    "model = keras.models.Sequential()\n",
    "model.add(layers.Conv2D(filters=32, kernel_size=(3, 3), activation='relu', input_shape=(250, 250, 3)))\n",
    "model.add(layers.MaxPooling2D(pool_size=(2,2)))\n",
    "model.add(layers.Flatten())\n",
    "model.add(layers.Dense(128, activation='relu'))\n",
    "model.add(layers.Dense(1, activation='sigmoid'))\n",
    "# compile model\n",
    "model.compile(loss='binary_crossentropy', optimizer='adam',metrics=['accuracy'])\n",
    "# create validation sets\n",
    "x_val = np.array(x_train[:384])\n",
    "x_train = np.array(x_train[384:])\n",
    "y_val = np.array(y_train[:384])\n",
    "y_train = np.array(y_train[384:])\n",
    "\n",
    "# fit model\n",
    "history = model.fit(x_train,y_train,epochs=2, batch_size=32, \n",
    "                    validation_data=(x_val,y_val) )"
   ]
  },
  {
   "cell_type": "code",
   "execution_count": 18,
   "id": "f769dfb3",
   "metadata": {},
   "outputs": [
    {
     "name": "stdout",
     "output_type": "stream",
     "text": [
      "Found 10 files belonging to 2 classes.\n",
      "1/1 [==============================] - 0s 101ms/step\n",
      "predicted 0.0, correct label: 1\n",
      "predicted 1.1679406952680438e-07, correct label: 1\n",
      "predicted 0.0, correct label: 0\n",
      "predicted 1.6919979306528887e-10, correct label: 1\n",
      "predicted 1.0, correct label: 1\n",
      "predicted 1.0, correct label: 1\n",
      "predicted 0.0, correct label: 0\n",
      "predicted 1.0, correct label: 1\n",
      "predicted 0.0023536181543022394, correct label: 1\n",
      "predicted 0.9999991059303284, correct label: 1\n"
     ]
    }
   ],
   "source": [
    "test_dir = './forest_desert_test'\n",
    "test_images= image_dataset_from_directory(test_dir, labels='inferred',image_size = (250,250),batch_size=32)\n",
    "(test_data,test_labels) = next(iter(test_images))\n",
    "pred = model.predict(test_data)\n",
    "for i in range(10):\n",
    "    print(f'predicted {pred[i][0]}, correct label: {test_labels[i]}')\n",
    "\n"
   ]
  },
  {
   "cell_type": "code",
   "execution_count": null,
   "id": "0bc0b157",
   "metadata": {},
   "outputs": [],
   "source": []
  }
 ],
 "metadata": {
  "kernelspec": {
   "display_name": "Python 3 (ipykernel)",
   "language": "python",
   "name": "python3"
  },
  "language_info": {
   "codemirror_mode": {
    "name": "ipython",
    "version": 3
   },
   "file_extension": ".py",
   "mimetype": "text/x-python",
   "name": "python",
   "nbconvert_exporter": "python",
   "pygments_lexer": "ipython3",
   "version": "3.9.13"
  }
 },
 "nbformat": 4,
 "nbformat_minor": 5
}
